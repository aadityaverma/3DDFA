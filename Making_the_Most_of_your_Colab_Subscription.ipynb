{
  "cells": [
    {
      "cell_type": "markdown",
      "metadata": {
        "id": "view-in-github",
        "colab_type": "text"
      },
      "source": [
        "<a href=\"https://colab.research.google.com/github/aadityaverma/3DDFA/blob/master/Making_the_Most_of_your_Colab_Subscription.ipynb\" target=\"_parent\"><img src=\"https://colab.research.google.com/assets/colab-badge.svg\" alt=\"Open In Colab\"/></a>"
      ]
    },
    {
      "cell_type": "markdown",
      "metadata": {
        "id": "SKQ4bH7qMGrA"
      },
      "source": [
        "# Making the Most of your Colab Subscription\n",
        "\n"
      ]
    },
    {
      "cell_type": "code",
      "source": [
        "!nvidia-smi"
      ],
      "metadata": {
        "colab": {
          "base_uri": "https://localhost:8080/"
        },
        "id": "G8DmnCd5Znah",
        "outputId": "c5e4885e-c404-4dd9-90ac-a60254d66a0c"
      },
      "execution_count": 1,
      "outputs": [
        {
          "output_type": "stream",
          "name": "stdout",
          "text": [
            "Sun Nov 13 07:39:59 2022       \n",
            "+-----------------------------------------------------------------------------+\n",
            "| NVIDIA-SMI 460.32.03    Driver Version: 460.32.03    CUDA Version: 11.2     |\n",
            "|-------------------------------+----------------------+----------------------+\n",
            "| GPU  Name        Persistence-M| Bus-Id        Disp.A | Volatile Uncorr. ECC |\n",
            "| Fan  Temp  Perf  Pwr:Usage/Cap|         Memory-Usage | GPU-Util  Compute M. |\n",
            "|                               |                      |               MIG M. |\n",
            "|===============================+======================+======================|\n",
            "|   0  A100-SXM4-40GB      Off  | 00000000:00:04.0 Off |                    0 |\n",
            "| N/A   28C    P0    41W / 400W |      0MiB / 40536MiB |      0%      Default |\n",
            "|                               |                      |             Disabled |\n",
            "+-------------------------------+----------------------+----------------------+\n",
            "                                                                               \n",
            "+-----------------------------------------------------------------------------+\n",
            "| Processes:                                                                  |\n",
            "|  GPU   GI   CI        PID   Type   Process name                  GPU Memory |\n",
            "|        ID   ID                                                   Usage      |\n",
            "|=============================================================================|\n",
            "|  No running processes found                                                 |\n",
            "+-----------------------------------------------------------------------------+\n"
          ]
        }
      ]
    },
    {
      "cell_type": "code",
      "metadata": {
        "id": "J9tFIeeXc9A6"
      },
      "source": [
        "%%capture\n",
        "!pip install -U asteroid\n",
        "!pip install -U pydub"
      ],
      "execution_count": 1,
      "outputs": []
    },
    {
      "cell_type": "code",
      "source": [],
      "metadata": {
        "id": "ASjj2hrYz3Pt"
      },
      "execution_count": null,
      "outputs": []
    },
    {
      "cell_type": "code",
      "source": [],
      "metadata": {
        "id": "vkPGM4YDwr1m"
      },
      "execution_count": null,
      "outputs": []
    },
    {
      "cell_type": "markdown",
      "metadata": {
        "id": "OvIyj14jjXCh"
      },
      "source": [
        "## Pretrained model speech separation\n",
        "\n",
        "Asteroid comes with [pretrained models](https://huggingface.co/models?filter=asteroid) that help you get started quickly, like the 8 kHz [DPRNN](https://huggingface.co/mpariente/DPRNNTasNet-ks2_WHAM_sepclean).\n",
        "\n",
        "As an example audio file to separate, you can use a mixture from the Deep clustering paper. Let's download it and listen to the unseparated version:"
      ]
    },
    {
      "cell_type": "code",
      "metadata": {
        "id": "XSPskKbeG7aI"
      },
      "source": [
        "from IPython.display import display, Audio\n",
        "\n",
        "display(Audio(\"CF2101835629.wav\"))\n",
        "#/content/CF2101835629.wav"
      ],
      "execution_count": null,
      "outputs": []
    },
    {
      "cell_type": "code",
      "source": [],
      "metadata": {
        "id": "TFLoI7-Vb9B_"
      },
      "execution_count": null,
      "outputs": []
    },
    {
      "cell_type": "code",
      "source": [],
      "metadata": {
        "id": "ONznQKH5b9Gc"
      },
      "execution_count": null,
      "outputs": []
    },
    {
      "cell_type": "markdown",
      "source": [
        "#%%\n",
        "from asteroid.models import BaseModel\n",
        "import soundfile as sf\n",
        "\n",
        "# 'from_pretrained' automatically uses the right model class (asteroid.models.DPRNNTasNet).\n",
        "model = BaseModel.from_pretrained(\"mpariente/DPRNNTasNet-ks2_WHAM_sepclean\")\n",
        "#%%\n",
        "#Importing library and thir function\n",
        "from pydub import AudioSegment\n",
        "from pydub.silence import split_on_silence\n",
        "\n",
        "#reading from audio mp3 file\n",
        "sound = AudioSegment.from_wav(\"/content/CF2101835629.wav\")\n",
        "\n"
      ],
      "metadata": {
        "id": "cByarSx0yyJa"
      }
    },
    {
      "cell_type": "code",
      "source": [
        "#@title\n",
        "\n",
        "# spliting audio files\n",
        "audio_chunks = split_on_silence(sound, min_silence_len=500, silence_thresh=-40 )\n",
        "\n",
        "#loop is used to iterate over the output list\n",
        "for i, chunk in enumerate(audio_chunks):\n",
        "    output_file = \"/Users/aditya/Downloads/output/chunk{0}.wav\".format(i)\n",
        "    print(\"Exporting file\", output_file)\n",
        "    chunk.export(output_file, format=\"wav\")\n",
        "\n",
        "# chunk files saved as Output"
      ],
      "metadata": {
        "cellView": "form",
        "id": "pqj6Cv4Ajb1S"
      },
      "execution_count": null,
      "outputs": []
    },
    {
      "cell_type": "code",
      "source": [
        "#@title\n",
        "#%%\n",
        "\n",
        "#loop is used to iterate over the output list\n",
        "for i, chunk in enumerate(audio_chunks):\n",
        "    output_file = \"/Users/aditya/Downloads/output/chunk{0}.wav\".format(i)\n",
        "    print(\"Seperating Speaker \", output_file)\n",
        "    model.separate(output_file)\n",
        "#    model.separate(\"/Users/aditya/Downloads/output/chunk{0}.wav\".format(i))\n",
        "\n",
        "#    !asteroid-infer \"mpariente/DPRNNTasNet-ks2_WHAM_sepclean\" --files \"/Users/aditya/Downloads/output/chunk{0}.wav\".format(i)\n",
        "\n",
        "#    chunk.export(output_file, format=\"mp3\")\n"
      ],
      "metadata": {
        "cellView": "form",
        "id": "BJ8tVFRdjb6X"
      },
      "execution_count": null,
      "outputs": []
    },
    {
      "cell_type": "code",
      "source": [
        "#%%\n",
        "from asteroid.models import BaseModel\n",
        "import soundfile as sf\n",
        "\n",
        "# 'from_pretrained' automatically uses the right model class (asteroid.models.DPRNNTasNet).\n",
        "model = BaseModel.from_pretrained(\"mpariente/DPRNNTasNet-ks2_WHAM_sepclean\")\n"
      ],
      "metadata": {
        "colab": {
          "base_uri": "https://localhost:8080/",
          "height": 106,
          "referenced_widgets": [
            "28272fd2640e45b6b39cb28a332e5616",
            "99a5d152a30a45669726da5c76c94de7",
            "5b30c4f5eca34143961d79a6c765969e",
            "d6da626806d04bc49e4f800c19e09a46",
            "a5cbed8032264f84bcf43d86dc34e043",
            "c2513fc06e7c4daea63638dd16ee7a7b",
            "29894171fe984282932b829d987eb583",
            "b47a82cab6434871b624fa0715c95e58",
            "a087dd9cb1034a34b12c29968db57796",
            "7d68f07003704d06857735a994080d55",
            "9575f93c1cbd4b52a5443a9b36bb13b9"
          ]
        },
        "id": "Glm3OUV2zRY4",
        "outputId": "dc77a6e1-99bb-4dfa-c819-82dd23b299ad"
      },
      "execution_count": 2,
      "outputs": [
        {
          "output_type": "stream",
          "name": "stderr",
          "text": [
            "/usr/local/lib/python3.7/dist-packages/huggingface_hub/file_download.py:591: FutureWarning: `cached_download` is the legacy way to download files from the HF hub, please consider upgrading to `hf_hub_download`\n",
            "  FutureWarning,\n"
          ]
        },
        {
          "output_type": "display_data",
          "data": {
            "text/plain": [
              "Downloading:   0%|          | 0.00/14.7M [00:00<?, ?B/s]"
            ],
            "application/vnd.jupyter.widget-view+json": {
              "version_major": 2,
              "version_minor": 0,
              "model_id": "28272fd2640e45b6b39cb28a332e5616"
            }
          },
          "metadata": {}
        }
      ]
    },
    {
      "cell_type": "code",
      "source": [
        "#%%\n",
        "from pydub import AudioSegment\n",
        "import math\n",
        "\n",
        "class SplitWavAudioMubin():\n",
        "    def __init__(self, folder, filename):\n",
        "        self.folder = folder\n",
        "        self.filename = filename\n",
        "        self.filepath = folder + '/' + filename\n",
        "\n",
        "        self.audio = AudioSegment.from_wav(self.filepath)\n",
        "\n",
        "    def get_duration(self):\n",
        "        return self.audio.duration_seconds\n",
        "\n",
        "    def single_split(self, from_min, to_min, split_filename):\n",
        "        t1 = from_min * 60 * 1000\n",
        "        t2 = to_min * 60 * 1000\n",
        "        split_audio = self.audio[t1:t2]\n",
        "        split_audio.export(self.folder + '/out/' + split_filename, format=\"wav\")\n",
        "\n",
        "    def multiple_split(self, min_per_split):\n",
        "        total_mins = math.ceil(self.get_duration() / 60)\n",
        "        for i in range(0, total_mins, min_per_split):\n",
        "            split_fn = str(i) + '_' + self.filename\n",
        "            self.single_split(i, i+min_per_split, split_fn)\n",
        "            print(str(i) + ' Done')\n",
        "            if i == total_mins - min_per_split:\n",
        "                print('All splited successfully')\n",
        "\n",
        "\n"
      ],
      "metadata": {
        "id": "LnH34_y1ZqZW"
      },
      "execution_count": 3,
      "outputs": []
    },
    {
      "cell_type": "code",
      "source": [
        "!mkdir '/content/out/'"
      ],
      "metadata": {
        "id": "cqa8AC6Y7Nk9"
      },
      "execution_count": 4,
      "outputs": []
    },
    {
      "cell_type": "code",
      "source": [
        "#%%\n",
        "folder = '/content/'\n",
        "file = 'CF2101835629.wav'\n",
        "split_wav = SplitWavAudioMubin(folder, file)\n",
        "split_wav.multiple_split(min_per_split=1)\n"
      ],
      "metadata": {
        "colab": {
          "base_uri": "https://localhost:8080/"
        },
        "id": "NkwvwBK_Zqcu",
        "outputId": "bb30ae37-4701-42a0-8f1e-99e41304dd0b"
      },
      "execution_count": 5,
      "outputs": [
        {
          "output_type": "stream",
          "name": "stdout",
          "text": [
            "0 Done\n",
            "1 Done\n",
            "2 Done\n",
            "3 Done\n",
            "4 Done\n",
            "5 Done\n",
            "6 Done\n",
            "7 Done\n",
            "8 Done\n",
            "9 Done\n",
            "10 Done\n",
            "11 Done\n",
            "All splited successfully\n"
          ]
        }
      ]
    },
    {
      "cell_type": "code",
      "source": [
        "import glob\n",
        "i = 0\n",
        "for filepath in glob.iglob('/content/out/*.wav'):\n",
        "    i = i + 1\n",
        "    print(filepath)\n",
        "    model.separate(filepath)\n",
        "    \n",
        "\n",
        "#loop is used to iterate over the output list\n",
        "#for i  in enumerate(audio_chunks):\n",
        "#    output_file = \"/content/{0}_CF2101835629.wav\".format(i)\n",
        "#    print(\"Seperating Speaker \", output_file)\n",
        "#    model.separate(output_file)\n",
        "#    model.separate(\"/Users/aditya/Downloads/output/chunk{0}.wav\".format(i))\n",
        "\n",
        "#    !asteroid-infer \"mpariente/DPRNNTasNet-ks2_WHAM_sepclean\" --files \"/Users/aditya/Downloads/output/chunk{0}.wav\".format(i)\n",
        "\n",
        "#    chunk.export(output_file, format=\"mp3\")\n"
      ],
      "metadata": {
        "colab": {
          "base_uri": "https://localhost:8080/"
        },
        "id": "XsApO0E0ZqgX",
        "outputId": "a8a08a52-5c6f-4d74-c128-72fd3cf83a45"
      },
      "execution_count": 6,
      "outputs": [
        {
          "output_type": "stream",
          "name": "stdout",
          "text": [
            "/content/out/4_CF2101835629.wav\n",
            "/content/out/6_CF2101835629.wav\n",
            "/content/out/8_CF2101835629.wav\n",
            "/content/out/11_CF2101835629.wav\n",
            "/content/out/1_CF2101835629.wav\n",
            "/content/out/2_CF2101835629.wav\n",
            "/content/out/9_CF2101835629.wav\n",
            "/content/out/3_CF2101835629.wav\n",
            "/content/out/7_CF2101835629.wav\n",
            "/content/out/10_CF2101835629.wav\n",
            "/content/out/5_CF2101835629.wav\n",
            "/content/out/0_CF2101835629.wav\n"
          ]
        }
      ]
    },
    {
      "cell_type": "code",
      "source": [],
      "metadata": {
        "id": "tLVl6dPV82Fb"
      },
      "execution_count": null,
      "outputs": []
    },
    {
      "cell_type": "code",
      "source": [],
      "metadata": {
        "id": "gjnEgHy84BfU"
      },
      "execution_count": null,
      "outputs": []
    },
    {
      "cell_type": "code",
      "source": [
        "\n",
        "import glob\n",
        "from pydub import AudioSegment\n",
        "from pydub.playback import play\n",
        "i = 0\n",
        "\n",
        "output_final1 = AudioSegment.from_file(\"/content/CF2101835629.wav\")\n",
        "output_final2 = AudioSegment.from_file(\"/content/CF2101835629.wav\")\n",
        "for filepath in glob.iglob('/content/out/*_est1.wav'):\n",
        "    i = i + 1\n",
        "    output_file1 = AudioSegment.from_file(filepath)\n",
        "#    output_file2 = AudioSegment.from_file(\"filepath\")\n",
        "    print(\"Merging Speaker 1 est\", output_file1)\n",
        "    output_final1 = output_final1 + output_file1\n",
        "    print(\"Exporting Speaker 1 est\", output_file1)\n",
        "    output_final1.export(out_f = \"/content/Client.wav\",\n",
        "                         format = \"wav\")\n",
        "#    print(\"Merging Speaker 2 est\", output_file2)\n",
        "#    output_final2 = output_final2 + output_file2\n",
        "#    print(\"Exporting Speaker 2 est\", output_file2)\n",
        "#    output_final2.export(out_f = \"/content/Agent.wav\",\n",
        "#                         format = \"wav\")\n",
        "for filepath in glob.iglob('/content/out/*_est2.wav'):\n",
        "    i = i + 1\n",
        "#    output_file1 = AudioSegment.from_file(filepath)\n",
        "    output_file2 = AudioSegment.from_file(filepath)\n",
        "#    print(\"Merging Speaker 1 est\", output_file1)\n",
        "#    output_final1 = output_final1 + output_file1\n",
        "#    print(\"Exporting Speaker 1 est\", output_file1)\n",
        "#    output_final1.export(out_f = \"/content/Client.wav\",\n",
        "#                        format = \"wav\")\n",
        "    print(\"Merging Speaker 2 est\", output_file2)\n",
        "    output_final2 = output_final2 + output_file2\n",
        "    print(\"Exporting Speaker 2 est\", output_file2)\n",
        "    output_final2.export(out_f = \"/content/Agent.wav\",\n",
        "                         format = \"wav\")    \n",
        "\n",
        "#play(output_final1)\n",
        "#    model.separate(output_file)"
      ],
      "metadata": {
        "colab": {
          "base_uri": "https://localhost:8080/"
        },
        "id": "QsMwNdbPZqjg",
        "outputId": "a532f9a5-f8e9-4313-82c8-2b3cd62e3181"
      },
      "execution_count": 15,
      "outputs": [
        {
          "output_type": "stream",
          "name": "stdout",
          "text": [
            "Merging Speaker 1 est <pydub.audio_segment.AudioSegment object at 0x7f2db4a3cad0>\n",
            "Exporting Speaker 1 est <pydub.audio_segment.AudioSegment object at 0x7f2db4a3cad0>\n",
            "Merging Speaker 1 est <pydub.audio_segment.AudioSegment object at 0x7f2db4a3cf10>\n",
            "Exporting Speaker 1 est <pydub.audio_segment.AudioSegment object at 0x7f2db4a3cf10>\n",
            "Merging Speaker 1 est <pydub.audio_segment.AudioSegment object at 0x7f2db4a3cad0>\n",
            "Exporting Speaker 1 est <pydub.audio_segment.AudioSegment object at 0x7f2db4a3cad0>\n",
            "Merging Speaker 1 est <pydub.audio_segment.AudioSegment object at 0x7f2db4a3cf10>\n",
            "Exporting Speaker 1 est <pydub.audio_segment.AudioSegment object at 0x7f2db4a3cf10>\n",
            "Merging Speaker 1 est <pydub.audio_segment.AudioSegment object at 0x7f2db60b2c10>\n",
            "Exporting Speaker 1 est <pydub.audio_segment.AudioSegment object at 0x7f2db60b2c10>\n",
            "Merging Speaker 1 est <pydub.audio_segment.AudioSegment object at 0x7f2db4a3c650>\n",
            "Exporting Speaker 1 est <pydub.audio_segment.AudioSegment object at 0x7f2db4a3c650>\n",
            "Merging Speaker 1 est <pydub.audio_segment.AudioSegment object at 0x7f2db4a3c510>\n",
            "Exporting Speaker 1 est <pydub.audio_segment.AudioSegment object at 0x7f2db4a3c510>\n",
            "Merging Speaker 1 est <pydub.audio_segment.AudioSegment object at 0x7f2db4ab3590>\n",
            "Exporting Speaker 1 est <pydub.audio_segment.AudioSegment object at 0x7f2db4ab3590>\n",
            "Merging Speaker 1 est <pydub.audio_segment.AudioSegment object at 0x7f2db4ab3b90>\n",
            "Exporting Speaker 1 est <pydub.audio_segment.AudioSegment object at 0x7f2db4ab3b90>\n",
            "Merging Speaker 1 est <pydub.audio_segment.AudioSegment object at 0x7f2db4a476d0>\n",
            "Exporting Speaker 1 est <pydub.audio_segment.AudioSegment object at 0x7f2db4a476d0>\n",
            "Merging Speaker 1 est <pydub.audio_segment.AudioSegment object at 0x7f2db4a47650>\n",
            "Exporting Speaker 1 est <pydub.audio_segment.AudioSegment object at 0x7f2db4a47650>\n",
            "Merging Speaker 1 est <pydub.audio_segment.AudioSegment object at 0x7f2db4a47110>\n",
            "Exporting Speaker 1 est <pydub.audio_segment.AudioSegment object at 0x7f2db4a47110>\n",
            "Merging Speaker 2 est <pydub.audio_segment.AudioSegment object at 0x7f2db4f60c50>\n",
            "Exporting Speaker 2 est <pydub.audio_segment.AudioSegment object at 0x7f2db4f60c50>\n",
            "Merging Speaker 2 est <pydub.audio_segment.AudioSegment object at 0x7f2db4f60990>\n",
            "Exporting Speaker 2 est <pydub.audio_segment.AudioSegment object at 0x7f2db4f60990>\n",
            "Merging Speaker 2 est <pydub.audio_segment.AudioSegment object at 0x7f2db4aa6990>\n",
            "Exporting Speaker 2 est <pydub.audio_segment.AudioSegment object at 0x7f2db4aa6990>\n",
            "Merging Speaker 2 est <pydub.audio_segment.AudioSegment object at 0x7f2db4aa6490>\n",
            "Exporting Speaker 2 est <pydub.audio_segment.AudioSegment object at 0x7f2db4aa6490>\n",
            "Merging Speaker 2 est <pydub.audio_segment.AudioSegment object at 0x7f2db4a72a10>\n",
            "Exporting Speaker 2 est <pydub.audio_segment.AudioSegment object at 0x7f2db4a72a10>\n",
            "Merging Speaker 2 est <pydub.audio_segment.AudioSegment object at 0x7f2db4a72a50>\n",
            "Exporting Speaker 2 est <pydub.audio_segment.AudioSegment object at 0x7f2db4a72a50>\n",
            "Merging Speaker 2 est <pydub.audio_segment.AudioSegment object at 0x7f2db4a724d0>\n",
            "Exporting Speaker 2 est <pydub.audio_segment.AudioSegment object at 0x7f2db4a724d0>\n",
            "Merging Speaker 2 est <pydub.audio_segment.AudioSegment object at 0x7f2db54ebe50>\n",
            "Exporting Speaker 2 est <pydub.audio_segment.AudioSegment object at 0x7f2db54ebe50>\n",
            "Merging Speaker 2 est <pydub.audio_segment.AudioSegment object at 0x7f2db54eba50>\n",
            "Exporting Speaker 2 est <pydub.audio_segment.AudioSegment object at 0x7f2db54eba50>\n",
            "Merging Speaker 2 est <pydub.audio_segment.AudioSegment object at 0x7f2db4a4a450>\n",
            "Exporting Speaker 2 est <pydub.audio_segment.AudioSegment object at 0x7f2db4a4a450>\n",
            "Merging Speaker 2 est <pydub.audio_segment.AudioSegment object at 0x7f2db4a4a810>\n",
            "Exporting Speaker 2 est <pydub.audio_segment.AudioSegment object at 0x7f2db4a4a810>\n",
            "Merging Speaker 2 est <pydub.audio_segment.AudioSegment object at 0x7f2db4a4abd0>\n",
            "Exporting Speaker 2 est <pydub.audio_segment.AudioSegment object at 0x7f2db4a4abd0>\n"
          ]
        }
      ]
    },
    {
      "cell_type": "code",
      "source": [
        "from IPython.display import display, Audio\n",
        "\n",
        "display(Audio(\"/content/CF2101835629.wav\"))\n",
        "#/content/CF2101835629.wav"
      ],
      "metadata": {
        "id": "HeOGB039ZqoR"
      },
      "execution_count": 2,
      "outputs": []
    },
    {
      "cell_type": "code",
      "source": [
        "from IPython.display import display, Audio\n",
        "\n",
        "display(Audio(\"Agent.wav\"))\n",
        "#/content/CF2101835629.wav"
      ],
      "metadata": {
        "id": "UHXUNH_JZqqi"
      },
      "execution_count": 1,
      "outputs": []
    },
    {
      "cell_type": "code",
      "source": [
        "from IPython.display import display, Audio\n",
        "\n",
        "display(Audio(\"Client.wav\"))\n",
        "#/content/CF2101835629.wav"
      ],
      "metadata": {
        "id": "SosRoj3MZqt6"
      },
      "execution_count": 17,
      "outputs": []
    },
    {
      "cell_type": "markdown",
      "metadata": {
        "id": "QMMqmdiYMkvi"
      },
      "source": [
        "## Faster GPUs\n",
        "\n",
        "Users who have purchased one of Colab's paid plans have access to premium GPUs. You can upgrade your notebook's GPU settings in `Runtime > Change runtime type` in the menu to enable Premium accelerator. Subject to availability, selecting a premium GPU may grant you access to a V100 or A100 Nvidia GPU.\n",
        "\n",
        "The free of charge version of Colab grants access to Nvidia's T4 GPUs subject to quota restrictions and availability.\n",
        "\n",
        "You can see what GPU you've been assigned at any time by executing the following cell. If the execution result of running the code cell below is \"Not connected to a GPU\", you can change the runtime by going to `Runtime > Change runtime type` in the menu to enable a GPU accelerator, and then re-execute the code cell.\n"
      ]
    },
    {
      "cell_type": "code",
      "execution_count": null,
      "metadata": {
        "id": "23TOba33L4qf"
      },
      "outputs": [],
      "source": [
        "gpu_info = !nvidia-smi\n",
        "gpu_info = '\\n'.join(gpu_info)\n",
        "if gpu_info.find('failed') >= 0:\n",
        "  print('Not connected to a GPU')\n",
        "else:\n",
        "  print(gpu_info)"
      ]
    },
    {
      "cell_type": "markdown",
      "metadata": {
        "id": "Sa-IrJS1aRVJ"
      },
      "source": [
        "In order to use a GPU with your notebook, select the `Runtime > Change runtime type` menu, and then set the hardware accelerator dropdown to GPU."
      ]
    },
    {
      "cell_type": "markdown",
      "metadata": {
        "id": "65MSuHKqNeBZ"
      },
      "source": [
        "## More memory\n",
        "\n",
        "Users who have purchased one of Colab's paid plans have access to high-memory VMs when they are available.\n",
        "\n",
        "\n",
        "\n",
        "You can see how much memory you have available at any time by running the following code cell. If the execution result of running the code cell below is \"Not using a high-RAM runtime\", then you can enable a high-RAM runtime via `Runtime > Change runtime type` in the menu. Then select High-RAM in the Runtime shape dropdown. After, re-execute the code cell.\n"
      ]
    },
    {
      "cell_type": "code",
      "execution_count": null,
      "metadata": {
        "id": "V1G82GuO-tez"
      },
      "outputs": [],
      "source": [
        "from psutil import virtual_memory\n",
        "ram_gb = virtual_memory().total / 1e9\n",
        "print('Your runtime has {:.1f} gigabytes of available RAM\\n'.format(ram_gb))\n",
        "\n",
        "if ram_gb < 20:\n",
        "  print('Not using a high-RAM runtime')\n",
        "else:\n",
        "  print('You are using a high-RAM runtime!')"
      ]
    },
    {
      "cell_type": "markdown",
      "metadata": {
        "id": "BJW8Qi-pPpep"
      },
      "source": [
        "## Longer runtimes\n",
        "\n",
        "All Colab runtimes are reset after some period of time (which is faster if the runtime isn't executing code). Colab Pro and Pro+ users have access to longer runtimes than those who use Colab free of charge.\n",
        "\n",
        "## Background execution\n",
        "\n",
        "Colab Pro+ users have access to background execution, where notebooks will continue executing even after you've closed a browser tab up to 24 hours. To enable background execution on your notebook, in the menu navigate to `Runtime > Change runtime type` and enable Background execution.\n",
        "\n"
      ]
    },
    {
      "cell_type": "markdown",
      "metadata": {
        "id": "uLlTRcMM_h0k"
      },
      "source": [
        "## Relaxing resource limits in Colab Pro\n",
        "\n",
        "Your resources are not unlimited in Colab. To make the most of Colab, avoid using resources when you don't need them. For example, only use a GPU when required and close Colab tabs when finished.\n",
        "\n",
        "\n",
        "\n",
        "If you encounter limitations, you can relax those limitations by purchasing more compute units via Pay As You Go. Anyone can purchase compute units via [Pay As You Go](https://colab.research.google.com/signup); no subscription is required."
      ]
    },
    {
      "cell_type": "markdown",
      "metadata": {
        "id": "mm8FzEidvPs6"
      },
      "source": [
        "## Send us feedback!\n",
        "\n",
        "If you have any feedback for us, please let us know. The best way to send feedback is by using the Help > 'Send feedback...' menu. If you encounter usage limits in Colab Pro consider subscribing to Pro+.\n",
        "\n",
        "If you encounter errors or other issues with billing (payments) for Colab Pro, Pro+, or Pay As You Go, please email [colab-billing@google.com](mailto:colab-billing@google.com)."
      ]
    },
    {
      "cell_type": "markdown",
      "metadata": {
        "id": "qB3bdLe8jkAa"
      },
      "source": [
        "## More Resources\n",
        "\n",
        "### Working with Notebooks in Colab\n",
        "- [Overview of Colaboratory](/notebooks/basic_features_overview.ipynb)\n",
        "- [Guide to Markdown](/notebooks/markdown_guide.ipynb)\n",
        "- [Importing libraries and installing dependencies](/notebooks/snippets/importing_libraries.ipynb)\n",
        "- [Saving and loading notebooks in GitHub](https://colab.research.google.com/github/googlecolab/colabtools/blob/master/notebooks/colab-github-demo.ipynb)\n",
        "- [Interactive forms](/notebooks/forms.ipynb)\n",
        "- [Interactive widgets](/notebooks/widgets.ipynb)\n",
        "\n",
        "<a name=\"working-with-data\"></a>\n",
        "### Working with Data\n",
        "- [Loading data: Drive, Sheets, and Google Cloud Storage](/notebooks/io.ipynb) \n",
        "- [Charts: visualizing data](/notebooks/charts.ipynb)\n",
        "- [Getting started with BigQuery](/notebooks/bigquery.ipynb)\n",
        "\n",
        "### Machine Learning Crash Course\n",
        "These are a few of the notebooks from Google's online Machine Learning course. See the [full course website](https://developers.google.com/machine-learning/crash-course/) for more.\n",
        "- [Intro to Pandas DataFrame](https://colab.research.google.com/github/google/eng-edu/blob/main/ml/cc/exercises/pandas_dataframe_ultraquick_tutorial.ipynb)\n",
        "- [Linear regression with tf.keras using synthetic data](https://colab.research.google.com/github/google/eng-edu/blob/main/ml/cc/exercises/linear_regression_with_synthetic_data.ipynb)\n",
        "\n",
        "\n",
        "<a name=\"using-accelerated-hardware\"></a>\n",
        "### Using Accelerated Hardware\n",
        "- [TensorFlow with GPUs](/notebooks/gpu.ipynb)\n",
        "- [TensorFlow with TPUs](/notebooks/tpu.ipynb)"
      ]
    },
    {
      "cell_type": "markdown",
      "metadata": {
        "id": "RFm2S0Gijqo8"
      },
      "source": [
        "<a name=\"machine-learning-examples\"></a>\n",
        "\n",
        "## Machine Learning Examples\n",
        "\n",
        "To see end-to-end examples of the interactive machine learning analyses that Colaboratory makes possible, check out these  tutorials using models from [TensorFlow Hub](https://tfhub.dev).\n",
        "\n",
        "A few featured examples:\n",
        "\n",
        "- [Retraining an Image Classifier](https://tensorflow.org/hub/tutorials/tf2_image_retraining): Build a Keras model on top of a pre-trained image classifier to distinguish flowers.\n",
        "- [Text Classification](https://tensorflow.org/hub/tutorials/tf2_text_classification): Classify IMDB movie reviews as either *positive* or *negative*.\n",
        "- [Style Transfer](https://tensorflow.org/hub/tutorials/tf2_arbitrary_image_stylization): Use deep learning to transfer style between images.\n",
        "- [Multilingual Universal Sentence Encoder Q&A](https://tensorflow.org/hub/tutorials/retrieval_with_tf_hub_universal_encoder_qa): Use a machine learning model to answer questions from the SQuAD dataset.\n",
        "- [Video Interpolation](https://tensorflow.org/hub/tutorials/tweening_conv3d): Predict what happened in a video between the first and the last frame.\n"
      ]
    }
  ],
  "metadata": {
    "colab": {
      "collapsed_sections": [],
      "name": "Making the Most of your Colab Subscription",
      "provenance": [],
      "machine_shape": "hm",
      "include_colab_link": true
    },
    "kernelspec": {
      "display_name": "Python 3",
      "name": "python3"
    },
    "gpuClass": "premium",
    "widgets": {
      "application/vnd.jupyter.widget-state+json": {
        "28272fd2640e45b6b39cb28a332e5616": {
          "model_module": "@jupyter-widgets/controls",
          "model_name": "HBoxModel",
          "model_module_version": "1.5.0",
          "state": {
            "_dom_classes": [],
            "_model_module": "@jupyter-widgets/controls",
            "_model_module_version": "1.5.0",
            "_model_name": "HBoxModel",
            "_view_count": null,
            "_view_module": "@jupyter-widgets/controls",
            "_view_module_version": "1.5.0",
            "_view_name": "HBoxView",
            "box_style": "",
            "children": [
              "IPY_MODEL_99a5d152a30a45669726da5c76c94de7",
              "IPY_MODEL_5b30c4f5eca34143961d79a6c765969e",
              "IPY_MODEL_d6da626806d04bc49e4f800c19e09a46"
            ],
            "layout": "IPY_MODEL_a5cbed8032264f84bcf43d86dc34e043"
          }
        },
        "99a5d152a30a45669726da5c76c94de7": {
          "model_module": "@jupyter-widgets/controls",
          "model_name": "HTMLModel",
          "model_module_version": "1.5.0",
          "state": {
            "_dom_classes": [],
            "_model_module": "@jupyter-widgets/controls",
            "_model_module_version": "1.5.0",
            "_model_name": "HTMLModel",
            "_view_count": null,
            "_view_module": "@jupyter-widgets/controls",
            "_view_module_version": "1.5.0",
            "_view_name": "HTMLView",
            "description": "",
            "description_tooltip": null,
            "layout": "IPY_MODEL_c2513fc06e7c4daea63638dd16ee7a7b",
            "placeholder": "​",
            "style": "IPY_MODEL_29894171fe984282932b829d987eb583",
            "value": "Downloading: 100%"
          }
        },
        "5b30c4f5eca34143961d79a6c765969e": {
          "model_module": "@jupyter-widgets/controls",
          "model_name": "FloatProgressModel",
          "model_module_version": "1.5.0",
          "state": {
            "_dom_classes": [],
            "_model_module": "@jupyter-widgets/controls",
            "_model_module_version": "1.5.0",
            "_model_name": "FloatProgressModel",
            "_view_count": null,
            "_view_module": "@jupyter-widgets/controls",
            "_view_module_version": "1.5.0",
            "_view_name": "ProgressView",
            "bar_style": "success",
            "description": "",
            "description_tooltip": null,
            "layout": "IPY_MODEL_b47a82cab6434871b624fa0715c95e58",
            "max": 14664381,
            "min": 0,
            "orientation": "horizontal",
            "style": "IPY_MODEL_a087dd9cb1034a34b12c29968db57796",
            "value": 14664381
          }
        },
        "d6da626806d04bc49e4f800c19e09a46": {
          "model_module": "@jupyter-widgets/controls",
          "model_name": "HTMLModel",
          "model_module_version": "1.5.0",
          "state": {
            "_dom_classes": [],
            "_model_module": "@jupyter-widgets/controls",
            "_model_module_version": "1.5.0",
            "_model_name": "HTMLModel",
            "_view_count": null,
            "_view_module": "@jupyter-widgets/controls",
            "_view_module_version": "1.5.0",
            "_view_name": "HTMLView",
            "description": "",
            "description_tooltip": null,
            "layout": "IPY_MODEL_7d68f07003704d06857735a994080d55",
            "placeholder": "​",
            "style": "IPY_MODEL_9575f93c1cbd4b52a5443a9b36bb13b9",
            "value": " 14.7M/14.7M [00:01&lt;00:00, 15.1MB/s]"
          }
        },
        "a5cbed8032264f84bcf43d86dc34e043": {
          "model_module": "@jupyter-widgets/base",
          "model_name": "LayoutModel",
          "model_module_version": "1.2.0",
          "state": {
            "_model_module": "@jupyter-widgets/base",
            "_model_module_version": "1.2.0",
            "_model_name": "LayoutModel",
            "_view_count": null,
            "_view_module": "@jupyter-widgets/base",
            "_view_module_version": "1.2.0",
            "_view_name": "LayoutView",
            "align_content": null,
            "align_items": null,
            "align_self": null,
            "border": null,
            "bottom": null,
            "display": null,
            "flex": null,
            "flex_flow": null,
            "grid_area": null,
            "grid_auto_columns": null,
            "grid_auto_flow": null,
            "grid_auto_rows": null,
            "grid_column": null,
            "grid_gap": null,
            "grid_row": null,
            "grid_template_areas": null,
            "grid_template_columns": null,
            "grid_template_rows": null,
            "height": null,
            "justify_content": null,
            "justify_items": null,
            "left": null,
            "margin": null,
            "max_height": null,
            "max_width": null,
            "min_height": null,
            "min_width": null,
            "object_fit": null,
            "object_position": null,
            "order": null,
            "overflow": null,
            "overflow_x": null,
            "overflow_y": null,
            "padding": null,
            "right": null,
            "top": null,
            "visibility": null,
            "width": null
          }
        },
        "c2513fc06e7c4daea63638dd16ee7a7b": {
          "model_module": "@jupyter-widgets/base",
          "model_name": "LayoutModel",
          "model_module_version": "1.2.0",
          "state": {
            "_model_module": "@jupyter-widgets/base",
            "_model_module_version": "1.2.0",
            "_model_name": "LayoutModel",
            "_view_count": null,
            "_view_module": "@jupyter-widgets/base",
            "_view_module_version": "1.2.0",
            "_view_name": "LayoutView",
            "align_content": null,
            "align_items": null,
            "align_self": null,
            "border": null,
            "bottom": null,
            "display": null,
            "flex": null,
            "flex_flow": null,
            "grid_area": null,
            "grid_auto_columns": null,
            "grid_auto_flow": null,
            "grid_auto_rows": null,
            "grid_column": null,
            "grid_gap": null,
            "grid_row": null,
            "grid_template_areas": null,
            "grid_template_columns": null,
            "grid_template_rows": null,
            "height": null,
            "justify_content": null,
            "justify_items": null,
            "left": null,
            "margin": null,
            "max_height": null,
            "max_width": null,
            "min_height": null,
            "min_width": null,
            "object_fit": null,
            "object_position": null,
            "order": null,
            "overflow": null,
            "overflow_x": null,
            "overflow_y": null,
            "padding": null,
            "right": null,
            "top": null,
            "visibility": null,
            "width": null
          }
        },
        "29894171fe984282932b829d987eb583": {
          "model_module": "@jupyter-widgets/controls",
          "model_name": "DescriptionStyleModel",
          "model_module_version": "1.5.0",
          "state": {
            "_model_module": "@jupyter-widgets/controls",
            "_model_module_version": "1.5.0",
            "_model_name": "DescriptionStyleModel",
            "_view_count": null,
            "_view_module": "@jupyter-widgets/base",
            "_view_module_version": "1.2.0",
            "_view_name": "StyleView",
            "description_width": ""
          }
        },
        "b47a82cab6434871b624fa0715c95e58": {
          "model_module": "@jupyter-widgets/base",
          "model_name": "LayoutModel",
          "model_module_version": "1.2.0",
          "state": {
            "_model_module": "@jupyter-widgets/base",
            "_model_module_version": "1.2.0",
            "_model_name": "LayoutModel",
            "_view_count": null,
            "_view_module": "@jupyter-widgets/base",
            "_view_module_version": "1.2.0",
            "_view_name": "LayoutView",
            "align_content": null,
            "align_items": null,
            "align_self": null,
            "border": null,
            "bottom": null,
            "display": null,
            "flex": null,
            "flex_flow": null,
            "grid_area": null,
            "grid_auto_columns": null,
            "grid_auto_flow": null,
            "grid_auto_rows": null,
            "grid_column": null,
            "grid_gap": null,
            "grid_row": null,
            "grid_template_areas": null,
            "grid_template_columns": null,
            "grid_template_rows": null,
            "height": null,
            "justify_content": null,
            "justify_items": null,
            "left": null,
            "margin": null,
            "max_height": null,
            "max_width": null,
            "min_height": null,
            "min_width": null,
            "object_fit": null,
            "object_position": null,
            "order": null,
            "overflow": null,
            "overflow_x": null,
            "overflow_y": null,
            "padding": null,
            "right": null,
            "top": null,
            "visibility": null,
            "width": null
          }
        },
        "a087dd9cb1034a34b12c29968db57796": {
          "model_module": "@jupyter-widgets/controls",
          "model_name": "ProgressStyleModel",
          "model_module_version": "1.5.0",
          "state": {
            "_model_module": "@jupyter-widgets/controls",
            "_model_module_version": "1.5.0",
            "_model_name": "ProgressStyleModel",
            "_view_count": null,
            "_view_module": "@jupyter-widgets/base",
            "_view_module_version": "1.2.0",
            "_view_name": "StyleView",
            "bar_color": null,
            "description_width": ""
          }
        },
        "7d68f07003704d06857735a994080d55": {
          "model_module": "@jupyter-widgets/base",
          "model_name": "LayoutModel",
          "model_module_version": "1.2.0",
          "state": {
            "_model_module": "@jupyter-widgets/base",
            "_model_module_version": "1.2.0",
            "_model_name": "LayoutModel",
            "_view_count": null,
            "_view_module": "@jupyter-widgets/base",
            "_view_module_version": "1.2.0",
            "_view_name": "LayoutView",
            "align_content": null,
            "align_items": null,
            "align_self": null,
            "border": null,
            "bottom": null,
            "display": null,
            "flex": null,
            "flex_flow": null,
            "grid_area": null,
            "grid_auto_columns": null,
            "grid_auto_flow": null,
            "grid_auto_rows": null,
            "grid_column": null,
            "grid_gap": null,
            "grid_row": null,
            "grid_template_areas": null,
            "grid_template_columns": null,
            "grid_template_rows": null,
            "height": null,
            "justify_content": null,
            "justify_items": null,
            "left": null,
            "margin": null,
            "max_height": null,
            "max_width": null,
            "min_height": null,
            "min_width": null,
            "object_fit": null,
            "object_position": null,
            "order": null,
            "overflow": null,
            "overflow_x": null,
            "overflow_y": null,
            "padding": null,
            "right": null,
            "top": null,
            "visibility": null,
            "width": null
          }
        },
        "9575f93c1cbd4b52a5443a9b36bb13b9": {
          "model_module": "@jupyter-widgets/controls",
          "model_name": "DescriptionStyleModel",
          "model_module_version": "1.5.0",
          "state": {
            "_model_module": "@jupyter-widgets/controls",
            "_model_module_version": "1.5.0",
            "_model_name": "DescriptionStyleModel",
            "_view_count": null,
            "_view_module": "@jupyter-widgets/base",
            "_view_module_version": "1.2.0",
            "_view_name": "StyleView",
            "description_width": ""
          }
        }
      }
    }
  },
  "nbformat": 4,
  "nbformat_minor": 0
}